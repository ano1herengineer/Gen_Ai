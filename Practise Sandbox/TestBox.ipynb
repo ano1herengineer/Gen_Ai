{
 "cells": [
  {
   "cell_type": "markdown",
   "metadata": {},
   "source": [
    "Basic Python Convention"
   ]
  },
  {
   "cell_type": "code",
   "execution_count": null,
   "metadata": {},
   "outputs": [],
   "source": [
    "age= 32; name = \"Prashant\"\n",
    "\n",
    "type(age)\n",
    "type(name)"
   ]
  },
  {
   "cell_type": "markdown",
   "metadata": {},
   "source": [
    "Type Infrencing"
   ]
  },
  {
   "cell_type": "code",
   "execution_count": 6,
   "metadata": {},
   "outputs": [
    {
     "name": "stdout",
     "output_type": "stream",
     "text": [
      "<class 'int'>\n",
      "<class 'str'>\n"
     ]
    }
   ],
   "source": [
    "##Type Infrencing \n",
    "variable=10\n",
    "print(type(variable))\n",
    "variable=\"Prashant\"\n",
    "print(type(variable))\n",
    "## During the Runtime we can change the type of variable "
   ]
  },
  {
   "cell_type": "markdown",
   "metadata": {},
   "source": [
    "Variables"
   ]
  },
  {
   "cell_type": "code",
   "execution_count": 1,
   "metadata": {},
   "outputs": [
    {
     "name": "stdout",
     "output_type": "stream",
     "text": [
      "Age is 21\n",
      "Height is 5.8\n",
      "Name is Prashant\n"
     ]
    }
   ],
   "source": [
    "age = 21\n",
    "height = 5.8\n",
    "name = \"Prashant\"\n",
    "is_Student = True\n",
    "\n",
    "print(\"Age is\", age)\n",
    "print(\"Height is\", height)\n",
    "print(\"Name is\", name)"
   ]
  },
  {
   "cell_type": "markdown",
   "metadata": {},
   "source": [
    "Python is dynamically typed, type of variable is determined at runtime."
   ]
  },
  {
   "cell_type": "markdown",
   "metadata": {},
   "source": [
    "### Examples of Dynamically Typed Python Variables\n",
    "\n",
    "In Python, variables are dynamically typed, meaning you don't need to declare their type explicitly. Here are some examples:\n",
    "\n"
   ]
  },
  {
   "cell_type": "code",
   "execution_count": null,
   "metadata": {},
   "outputs": [],
   "source": [
    "# Integer\n",
    "a = 10\n",
    "print(a, type(a))  # Output: 10 <class 'int'>\n",
    "\n",
    "# Float\n",
    "b = 3.14\n",
    "print(b, type(b))  # Output: 3.14 <class 'float'>\n",
    "\n",
    "# String\n",
    "c = \"Hello, World!\"\n",
    "print(c, type(c))  # Output: Hello, World! <class 'str'>\n",
    "\n",
    "# List\n",
    "d = [1, 2, 3, 4, 5]\n",
    "print(d, type(d))  # Output: [1, 2, 3, 4, 5] <class 'list'>\n",
    "\n",
    "# Dictionary\n",
    "e = {\"name\": \"Alice\", \"age\": 25}\n",
    "print(e, type(e))  # Output: {'name': 'Alice', 'age': 25} <class 'dict'>\n",
    "\n",
    "# Boolean\n",
    "f = True\n",
    "print(f, type(f))  # Output: True <class 'bool'>"
   ]
  },
  {
   "cell_type": "markdown",
   "metadata": {},
   "source": [
    "\n",
    "\n",
    "These examples demonstrate how Python variables can hold different types of data without needing explicit type declarations."
   ]
  },
  {
   "cell_type": "markdown",
   "metadata": {},
   "source": [
    "Python supports several built-in data types. Here are the primary ones:\n",
    "\n",
    "1. **Numeric Types**\n",
    "   - **int**: Integer values.\n",
    "   - **float**: Floating-point numbers.\n",
    "   - **complex**: Complex numbers.\n",
    "\n",
    "2. **Sequence Types**\n",
    "   - **list**: Ordered, mutable collection of items.\n",
    "   - **tuple**: Ordered, immutable collection of items.\n",
    "   - **range**: Represents an immutable sequence of numbers.\n",
    "\n",
    "3. **Text Type**\n",
    "   - **str**: String, a sequence of Unicode characters.\n",
    "\n",
    "4. **Set Types**\n",
    "   - **set**: Unordered collection of unique items.\n",
    "   - **frozenset**: Immutable version of a set.\n",
    "\n",
    "5. **Mapping Type**\n",
    "   - **dict**: Unordered collection of key-value pairs.\n",
    "\n",
    "6. **Boolean Type**\n",
    "   - **bool**: Represents `True` or `False`.\n",
    "\n",
    "7. **Binary Types**\n",
    "   - **bytes**: Immutable sequence of bytes.\n",
    "   - **bytearray**: Mutable sequence of bytes.\n",
    "   - **memoryview**: Memory view object.\n",
    "\n",
    "### Examples\n",
    "\n"
   ]
  },
  {
   "cell_type": "code",
   "execution_count": null,
   "metadata": {},
   "outputs": [],
   "source": [
    "# Numeric Types\n",
    "a = 10          # int\n",
    "b = 3.14        # float\n",
    "c = 1 + 2j      # complex\n",
    "\n",
    "# Sequence Types\n",
    "d = [1, 2, 3]   # list\n",
    "e = (1, 2, 3)   # tuple\n",
    "f = range(5)    # range\n",
    "\n",
    "# Text Type\n",
    "g = \"Hello\"     # str\n",
    "\n",
    "# Set Types\n",
    "h = {1, 2, 3}   # set\n",
    "i = frozenset([1, 2, 3])  # frozenset\n",
    "\n",
    "# Mapping Type\n",
    "j = {\"key\": \"value\"}  # dict\n",
    "\n",
    "# Boolean Type\n",
    "k = True        # bool\n",
    "\n",
    "# Binary Types\n",
    "l = b\"hello\"    # bytes\n",
    "m = bytearray(b\"hello\")  # bytearray\n",
    "n = memoryview(b\"hello\")  # memoryview"
   ]
  },
  {
   "cell_type": "markdown",
   "metadata": {},
   "source": [
    "\n",
    "\n",
    "These examples cover the primary data types available in Python."
   ]
  },
  {
   "cell_type": "code",
   "execution_count": null,
   "metadata": {},
   "outputs": [],
   "source": []
  },
  {
   "cell_type": "markdown",
   "metadata": {},
   "source": [
    "#### List"
   ]
  },
  {
   "cell_type": "markdown",
   "metadata": {},
   "source": [
    "List are ordered and mutable.\n",
    "We can use different data type in list.\n",
    "\n",
    "Initialize: list=[]"
   ]
  },
  {
   "cell_type": "markdown",
   "metadata": {},
   "source": []
  },
  {
   "cell_type": "code",
   "execution_count": 1,
   "metadata": {},
   "outputs": [
    {
     "name": "stdout",
     "output_type": "stream",
     "text": [
      "First fruit: apple\n",
      "Last fruit: guava\n",
      "First three fruits: ['apple', 'banana', 'cherry']\n",
      "Fruits from second to fourth: ['banana', 'cherry', 'kiwi']\n",
      "Modified list: ['apple', 'blueberry', 'cherry', 'kiwi', 'guava']\n",
      "List after appending: ['apple', 'blueberry', 'cherry', 'kiwi', 'guava', 'orange']\n",
      "List after inserting: ['apple', 'blueberry', 'strawberry', 'cherry', 'kiwi', 'guava', 'orange']\n",
      "List after removing 'kiwi': ['apple', 'blueberry', 'strawberry', 'cherry', 'guava', 'orange']\n",
      "Popped fruit: orange\n",
      "List after popping: ['apple', 'blueberry', 'strawberry', 'cherry', 'guava']\n",
      "Index of 'cherry': 3\n",
      "Count of 'apple': 1\n",
      "Sorted list: ['apple', 'blueberry', 'cherry', 'guava', 'strawberry']\n",
      "Reversed list: ['strawberry', 'guava', 'cherry', 'blueberry', 'apple']\n",
      "Uppercase fruits: ['STRAWBERRY', 'GUAVA', 'CHERRY', 'BLUEBERRY', 'APPLE']\n",
      "Nested list: [['apple', 'banana'], ['cherry', 'kiwi'], ['guava', 'orange']]\n",
      "First element of the first list: apple\n"
     ]
    }
   ],
   "source": [
    "# Creating a list\n",
    "fruits = [\"apple\", \"banana\", \"cherry\", \"kiwi\", \"guava\"]\n",
    "\n",
    "# Accessing List Elements\n",
    "print(\"First fruit:\", fruits[0])  # Output: apple\n",
    "print(\"Last fruit:\", fruits[-1])  # Output: guava\n",
    "\n",
    "# Slicing a List\n",
    "print(\"First three fruits:\", fruits[:3])  # Output: ['apple', 'banana', 'cherry']\n",
    "print(\"Fruits from second to fourth:\", fruits[1:4])  # Output: ['banana', 'cherry', 'kiwi']\n",
    "\n",
    "# Modifying List Elements\n",
    "fruits[1] = \"blueberry\"\n",
    "print(\"Modified list:\", fruits)  # Output: ['apple', 'blueberry', 'cherry', 'kiwi', 'guava']\n",
    "\n",
    "# Adding Elements to a List\n",
    "fruits.append(\"orange\")\n",
    "print(\"List after appending:\", fruits)  # Output: ['apple', 'blueberry', 'cherry', 'kiwi', 'guava', 'orange']\n",
    "\n",
    "# Inserting Elements at a Specific Position\n",
    "fruits.insert(2, \"strawberry\")\n",
    "print(\"List after inserting:\", fruits)  # Output: ['apple', 'blueberry', 'strawberry', 'cherry', 'kiwi', 'guava', 'orange']\n",
    "\n",
    "# Removing Elements from a List\n",
    "fruits.remove(\"kiwi\")\n",
    "print(\"List after removing 'kiwi':\", fruits)  # Output: ['apple', 'blueberry', 'strawberry', 'cherry', 'guava', 'orange']\n",
    "\n",
    "# Popping Elements from a List\n",
    "popped_fruit = fruits.pop()\n",
    "print(\"Popped fruit:\", popped_fruit)  # Output: orange\n",
    "print(\"List after popping:\", fruits)  # Output: ['apple', 'blueberry', 'strawberry', 'cherry', 'guava']\n",
    "\n",
    "# Finding the Index of an Element\n",
    "index_of_cherry = fruits.index(\"cherry\")\n",
    "print(\"Index of 'cherry':\", index_of_cherry)  # Output: 3\n",
    "\n",
    "# Counting Occurrences of an Element\n",
    "count_of_apple = fruits.count(\"apple\")\n",
    "print(\"Count of 'apple':\", count_of_apple)  # Output: 1\n",
    "\n",
    "# Sorting a List\n",
    "fruits.sort()\n",
    "print(\"Sorted list:\", fruits)  # Output: ['apple', 'blueberry', 'cherry', 'guava', 'strawberry']\n",
    "\n",
    "# Reversing a List\n",
    "fruits.reverse()\n",
    "print(\"Reversed list:\", fruits)  # Output: ['strawberry', 'guava', 'cherry', 'blueberry', 'apple']\n",
    "\n",
    "# List Comprehension\n",
    "uppercase_fruits = [fruit.upper() for fruit in fruits]\n",
    "print(\"Uppercase fruits:\", uppercase_fruits)  # Output: ['STRAWBERRY', 'GUAVA', 'CHERRY', 'BLUEBERRY', 'APPLE']\n",
    "\n",
    "# Nested Lists\n",
    "nested_list = [[\"apple\", \"banana\"], [\"cherry\", \"kiwi\"], [\"guava\", \"orange\"]]\n",
    "print(\"Nested list:\", nested_list)  # Output: [['apple', 'banana'], ['cherry', 'kiwi'], ['guava', 'orange']]\n",
    "print(\"First element of the first list:\", nested_list[0][0])  # Output: apple"
   ]
  },
  {
   "cell_type": "code",
   "execution_count": null,
   "metadata": {},
   "outputs": [],
   "source": []
  }
 ],
 "metadata": {
  "kernelspec": {
   "display_name": "Python 3",
   "language": "python",
   "name": "python3"
  },
  "language_info": {
   "codemirror_mode": {
    "name": "ipython",
    "version": 3
   },
   "file_extension": ".py",
   "mimetype": "text/x-python",
   "name": "python",
   "nbconvert_exporter": "python",
   "pygments_lexer": "ipython3",
   "version": "3.12.0"
  }
 },
 "nbformat": 4,
 "nbformat_minor": 2
}
