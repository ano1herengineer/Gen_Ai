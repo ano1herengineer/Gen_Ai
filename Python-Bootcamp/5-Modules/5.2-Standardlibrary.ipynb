{
 "cells": [
  {
   "cell_type": "markdown",
   "metadata": {},
   "source": [
    "##### Standard Library Overview\n",
    "Python's Standard Library is a vast collection of modules and packages that come bundled with Python, providing a wide range of functionalities out of the box. Here's an overview of some of the most commonly used modules and packages in the Python Standard Library."
   ]
  },
  {
   "cell_type": "code",
   "execution_count": 1,
   "metadata": {},
   "outputs": [
    {
     "name": "stdout",
     "output_type": "stream",
     "text": [
      "array('i', [1, 2, 3, 4])\n"
     ]
    }
   ],
   "source": [
    "import array\n",
    "arr=array.array('i',[1,2,3,4])\n",
    "print(arr)"
   ]
  },
  {
   "cell_type": "code",
   "execution_count": 2,
   "metadata": {},
   "outputs": [
    {
     "name": "stdout",
     "output_type": "stream",
     "text": [
      "4.0\n",
      "3.141592653589793\n"
     ]
    }
   ],
   "source": [
    "import math\n",
    "print(math.sqrt(16))\n",
    "print(math.pi)"
   ]
  },
  {
   "cell_type": "code",
   "execution_count": 6,
   "metadata": {},
   "outputs": [
    {
     "name": "stdout",
     "output_type": "stream",
     "text": [
      "2\n",
      "cherry\n"
     ]
    }
   ],
   "source": [
    "## random \n",
    "\n",
    "import random\n",
    "print(random.randint(1,10))\n",
    "print(random.choice(['apple','banana','cherry']))"
   ]
  },
  {
   "cell_type": "code",
   "execution_count": 1,
   "metadata": {},
   "outputs": [
    {
     "name": "stdout",
     "output_type": "stream",
     "text": [
      "x:\\Gen_Ai\\Python-Bootcamp\\5-Modules\n"
     ]
    }
   ],
   "source": [
    "### File And Directory Access\n",
    "\n",
    "import os\n",
    "print(os.getcwd())"
   ]
  },
  {
   "cell_type": "code",
   "execution_count": 8,
   "metadata": {},
   "outputs": [],
   "source": [
    "os.mkdir('test_dir')"
   ]
  },
  {
   "cell_type": "code",
   "execution_count": 9,
   "metadata": {},
   "outputs": [
    {
     "data": {
      "text/plain": [
       "'destination.txt'"
      ]
     },
     "execution_count": 9,
     "metadata": {},
     "output_type": "execute_result"
    }
   ],
   "source": [
    "## High level operations on files and collection of files\n",
    "import shutil\n",
    "shutil.copyfile('source.txt','destination.txt')"
   ]
  },
  {
   "cell_type": "code",
   "execution_count": 2,
   "metadata": {},
   "outputs": [
    {
     "name": "stdout",
     "output_type": "stream",
     "text": [
      "{\"name\": \"Prashant\", \"age\": 25}\n",
      "<class 'str'>\n",
      "{'name': 'Prashant', 'age': 25}\n",
      "<class 'dict'>\n"
     ]
    }
   ],
   "source": [
    "## Data Serialization\n",
    "import json\n",
    "data={'name':'Prashant','age':25}\n",
    "\n",
    "json_str=json.dumps(data)\n",
    "print(json_str)\n",
    "print(type(json_str))\n",
    "\n",
    "parsed_data=json.loads(json_str)\n",
    "print(parsed_data)\n",
    "print(type(parsed_data))\n"
   ]
  },
  {
   "cell_type": "code",
   "execution_count": 3,
   "metadata": {},
   "outputs": [
    {
     "name": "stdout",
     "output_type": "stream",
     "text": [
      "['name', 'age']\n",
      "['Prashant', '21']\n"
     ]
    }
   ],
   "source": [
    "## csv\n",
    "\n",
    "import csv\n",
    "\n",
    "with open('example.csv',mode='w',newline='') as file:\n",
    "    writer=csv.writer(file)\n",
    "    writer.writerow(['name','age'])\n",
    "    writer.writerow(['Prashant',21])\n",
    "\n",
    "with open('example.csv',mode='r') as file:\n",
    "    reader=csv.reader(file)\n",
    "    for row in reader:\n",
    "        print(row)"
   ]
  },
  {
   "cell_type": "code",
   "execution_count": 4,
   "metadata": {},
   "outputs": [
    {
     "name": "stdout",
     "output_type": "stream",
     "text": [
      "2024-08-05 12:45:37.212520\n",
      "2024-08-04 12:45:37.212520\n"
     ]
    }
   ],
   "source": [
    "## datetime\n",
    "from datetime import datetime,timedelta\n",
    "\n",
    "now=datetime.now()\n",
    "print(now)\n",
    "\n",
    "yesterday=now-timedelta(days=1)\n",
    "\n",
    "print(yesterday)"
   ]
  },
  {
   "cell_type": "code",
   "execution_count": 5,
   "metadata": {},
   "outputs": [
    {
     "name": "stdout",
     "output_type": "stream",
     "text": [
      "1722842142.6765702\n",
      "1722842144.680066\n"
     ]
    }
   ],
   "source": [
    "## time\n",
    "import time\n",
    "print(time.time())\n",
    "time.sleep(2)\n",
    "print(time.time())"
   ]
  },
  {
   "cell_type": "code",
   "execution_count": 15,
   "metadata": {},
   "outputs": [
    {
     "name": "stdout",
     "output_type": "stream",
     "text": [
      "123\n"
     ]
    }
   ],
   "source": [
    "## Regular expresiion\n",
    "import re\n",
    "\n",
    "pattern=r'\\d+'\n",
    "text='There are 123 apples 456'\n",
    "match=re.search(pattern,text)\n",
    "print(match.group())"
   ]
  },
  {
   "cell_type": "markdown",
   "metadata": {},
   "source": [
    "#### Conclusion\n",
    "Python's Standard Library is extensive and provides tools for almost any task you can think of, from file handling to web services, from data serialization to concurrent execution. Familiarizing yourself with the modules and packages available in the Standard Library can significantly enhance your ability to write efficient and effective Python programs."
   ]
  },
  {
   "cell_type": "markdown",
   "metadata": {},
   "source": [
    "\n",
    "### Commonly Used Standard Libraries\n",
    "\n",
    "1. **`os`**: Provides functions for interacting with the operating system, such as file and directory manipulation, environment variables, and process management.\n",
    "\n",
    "2. **`sys`**: Provides access to system-specific parameters and functions, including command-line arguments, standard input/output, and error handling.\n",
    "\n",
    "3. **`math`**: Offers mathematical functions like trigonometry, logarithms, and constants such as pi and e.\n",
    "\n",
    "4. **`datetime`**: Supplies classes for manipulating dates and times, including formatting and arithmetic operations.\n",
    "\n",
    "5. **`random`**: Implements pseudo-random number generators for various distributions, useful for simulations and random sampling.\n",
    "\n",
    "6. **`json`**: Provides methods for parsing JSON (JavaScript Object Notation), a popular data interchange format, and converting Python objects to JSON strings.\n",
    "\n",
    "7. **`re`**: Supports regular expressions for advanced string searching and manipulation.\n",
    "\n",
    "8. **`collections`**: Implements specialized container datatypes like named tuples, deque, Counter, OrderedDict, and defaultdict.\n",
    "\n",
    "9. **`itertools`**: Provides functions for creating iterators for efficient looping, including tools for permutations, combinations, and Cartesian products.\n",
    "\n",
    "10. **`functools`**: Offers higher-order functions that act on or return other functions, such as `reduce`, `partial`, and `lru_cache`.\n",
    "\n",
    "11. **`urllib`**: Contains modules for working with URLs, including fetching data across the web, parsing URLs, and handling HTTP requests.\n",
    "\n",
    "12. **`subprocess`**: Allows you to spawn new processes, connect to their input/output/error pipes, and obtain their return codes, useful for running shell commands from within Python.\n",
    "\n",
    "13. **`logging`**: Provides a flexible framework for emitting log messages from Python programs, supporting different log levels and output destinations.\n",
    "\n",
    "14. **`csv`**: Facilitates reading from and writing to CSV (Comma-Separated Values) files, which are commonly used for data exchange.\n",
    "\n",
    "15. **`sqlite3`**: Provides a lightweight disk-based database that doesn’t require a separate server process, allowing you to use SQL to query and manage data.\n",
    "\n",
    "16. **`threading`**: Supports concurrent execution of code using threads, enabling parallelism and improving performance for I/O-bound tasks.\n",
    "\n",
    "17. **`multiprocessing`**: Similar to `threading`, but uses processes instead of threads, allowing for true parallelism and better performance for CPU-bound tasks.\n",
    "\n",
    "18. **`configparser`**: Used for handling configuration files, allowing you to read and write configuration settings in a structured format.\n",
    "\n",
    "19. **`xml`**: Provides tools for parsing and creating XML documents, useful for data interchange and configuration.\n",
    "\n",
    "20. **`http`**: Contains modules for handling HTTP requests and responses, useful for building web clients and servers.\n",
    "\n",
    "These libraries are part of Python's extensive standard library, which provides modules for a wide range of tasks, making Python a versatile and powerful programming language."
   ]
  }
 ],
 "metadata": {
  "kernelspec": {
   "display_name": "Python 3",
   "language": "python",
   "name": "python3"
  },
  "language_info": {
   "codemirror_mode": {
    "name": "ipython",
    "version": 3
   },
   "file_extension": ".py",
   "mimetype": "text/x-python",
   "name": "python",
   "nbconvert_exporter": "python",
   "pygments_lexer": "ipython3",
   "version": "3.12.0"
  }
 },
 "nbformat": 4,
 "nbformat_minor": 2
}
