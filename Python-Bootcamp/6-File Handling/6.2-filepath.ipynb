{
 "cells": [
  {
   "cell_type": "markdown",
   "metadata": {},
   "source": [
    "#### Working With File Paths\n",
    "When working with files in Python, handling file paths correctly is crucial to ensure your code works across different operating systems and environments. Python provides several modules and functions for working with file paths effectively."
   ]
  },
  {
   "cell_type": "code",
   "execution_count": 2,
   "metadata": {},
   "outputs": [
    {
     "name": "stdout",
     "output_type": "stream",
     "text": [
      "Current working directory is x:\\Gen_Ai\\Python-Bootcamp\\6-File Handling\n"
     ]
    }
   ],
   "source": [
    "#### Using the os module\n",
    "import os\n",
    "cwd=os.getcwd()\n",
    "print(f\"Current working directory is {cwd}\")"
   ]
  },
  {
   "cell_type": "code",
   "execution_count": 3,
   "metadata": {},
   "outputs": [
    {
     "name": "stdout",
     "output_type": "stream",
     "text": [
      "Directory 'package' create\n"
     ]
    }
   ],
   "source": [
    "## create a new directory\n",
    "new_directory=\"package\"\n",
    "os.mkdir(new_directory)\n",
    "print(f\"Directory '{new_directory}' create\")\n"
   ]
  },
  {
   "cell_type": "code",
   "execution_count": 4,
   "metadata": {},
   "outputs": [
    {
     "name": "stdout",
     "output_type": "stream",
     "text": [
      "['6.1-fileoperation.ipynb', '6.2-filepath.ipynb', 'destination.txt', 'example.bin', 'example.txt', 'package', 'wplus.txt']\n"
     ]
    }
   ],
   "source": [
    "## Listing Files And Directories\n",
    "items=os.listdir('.')\n",
    "print(items)"
   ]
  },
  {
   "cell_type": "code",
   "execution_count": 5,
   "metadata": {},
   "outputs": [
    {
     "name": "stdout",
     "output_type": "stream",
     "text": [
      "folder\\file.txt\n"
     ]
    }
   ],
   "source": [
    "### Joining Paths\n",
    "\n",
    "dir_name=\"folder\"\n",
    "file_name=\"file.txt\"\n",
    "full_path=os.path.join(dir_name,file_name)\n",
    "print(full_path)"
   ]
  },
  {
   "cell_type": "code",
   "execution_count": 6,
   "metadata": {},
   "outputs": [
    {
     "name": "stdout",
     "output_type": "stream",
     "text": [
      "x:\\Gen_Ai\\Python-Bootcamp\\6-File Handling\\folder\\file.txt\n"
     ]
    }
   ],
   "source": [
    "\n",
    "dir_name=\"folder\"\n",
    "file_name=\"file.txt\"\n",
    "full_path=os.path.join(os.getcwd(),dir_name,file_name)\n",
    "print(full_path)"
   ]
  },
  {
   "cell_type": "code",
   "execution_count": 7,
   "metadata": {},
   "outputs": [
    {
     "name": "stdout",
     "output_type": "stream",
     "text": [
      "The path 'example1.txt' does not exists\n"
     ]
    }
   ],
   "source": [
    "path='example1.txt'\n",
    "if os.path.exists(path):\n",
    "    print(f\"The path '{path}' exists\")\n",
    "else:\n",
    "    print(f\"The path '{path}' does not exists\")"
   ]
  },
  {
   "cell_type": "code",
   "execution_count": 8,
   "metadata": {},
   "outputs": [
    {
     "name": "stdout",
     "output_type": "stream",
     "text": [
      "The path 'example.txt' is a file.\n"
     ]
    }
   ],
   "source": [
    "#Checking if a Path is a File or Directory\n",
    "import os\n",
    "\n",
    "path = 'example.txt'\n",
    "if os.path.isfile(path):\n",
    "    print(f\"The path '{path}' is a file.\")\n",
    "elif os.path.isdir(path):\n",
    "    print(f\"The path '{path}' is a directory.\")\n",
    "else:\n",
    "    print(f\"The path '{path}' is neither a file nor a directory.\")\n"
   ]
  },
  {
   "cell_type": "code",
   "execution_count": 9,
   "metadata": {},
   "outputs": [
    {
     "name": "stdout",
     "output_type": "stream",
     "text": [
      "x:\\Gen_Ai\\Python-Bootcamp\\6-File Handling\\example.txt\n"
     ]
    }
   ],
   "source": [
    "## Getting the absolute path\n",
    "relative_path='example.txt'\n",
    "absolute_path=os.path.abspath(relative_path)\n",
    "print(absolute_path)"
   ]
  },
  {
   "cell_type": "code",
   "execution_count": null,
   "metadata": {},
   "outputs": [],
   "source": []
  },
  {
   "cell_type": "markdown",
   "metadata": {},
   "source": [
    "### File Path Operations in Python\n",
    "\n",
    "Python provides several modules and functions to handle file paths efficiently. Here are some key operations:\n",
    "\n",
    "1. **`os.path` Module**: Provides functions for manipulating file paths.\n",
    "   - `os.path.join()`: Joins one or more path components.\n",
    "   - `os.path.basename()`: Returns the base name of the pathname.\n",
    "   - `os.path.dirname()`: Returns the directory name of the pathname.\n",
    "   - `os.path.exists()`: Checks if a path exists.\n",
    "   - `os.path.isfile()`: Checks if a path is a regular file.\n",
    "   - `os.path.isdir()`: Checks if a path is a directory.\n",
    "\n",
    "2. **`pathlib` Module**: Offers an object-oriented approach to handling file paths.\n",
    "   - `Path()`: Creates a new path object.\n",
    "   - `Path.joinpath()`: Joins path components.\n",
    "   - `Path.name`: Returns the base name of the path.\n",
    "   - `Path.parent`: Returns the directory name of the path.\n",
    "   - `Path.exists()`: Checks if the path exists.\n",
    "   - `Path.is_file()`: Checks if the path is a regular file.\n",
    "   - `Path.is_dir()`: Checks if the path is a directory.\n",
    "\n",
    "3. **Absolute vs. Relative Paths**: \n",
    "   - **Absolute Path**: Specifies the complete path from the root directory.\n",
    "   - **Relative Path**: Specifies the path relative to the current working directory.\n",
    "\n",
    "4. **Changing Directories**:\n",
    "   - `os.chdir()`: Changes the current working directory.\n",
    "   - `os.getcwd()`: Returns the current working directory.\n",
    "\n",
    "5. **Creating and Removing Directories**:\n",
    "   - `os.mkdir()`: Creates a new directory.\n",
    "   - `os.makedirs()`: Creates directories recursively.\n",
    "   - `os.rmdir()`: Removes a directory.\n",
    "   - `os.removedirs()`: Removes directories recursively.\n",
    "\n",
    "These operations are essential for navigating and manipulating the file system in Python, making it easier to manage files and directories."
   ]
  }
 ],
 "metadata": {
  "kernelspec": {
   "display_name": "Python 3",
   "language": "python",
   "name": "python3"
  },
  "language_info": {
   "codemirror_mode": {
    "name": "ipython",
    "version": 3
   },
   "file_extension": ".py",
   "mimetype": "text/x-python",
   "name": "python",
   "nbconvert_exporter": "python",
   "pygments_lexer": "ipython3",
   "version": "3.12.0"
  }
 },
 "nbformat": 4,
 "nbformat_minor": 2
}
