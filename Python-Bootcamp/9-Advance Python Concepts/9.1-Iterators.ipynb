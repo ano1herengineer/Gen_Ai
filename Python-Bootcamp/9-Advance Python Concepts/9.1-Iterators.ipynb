{
 "cells": [
  {
   "cell_type": "markdown",
   "metadata": {},
   "source": [
    "### Iterators\n",
    "Iterators are advanced Python concepts that allow for efficient looping and memory management. Iterators provide a way to access elements of a collection sequentially without exposing the underlying structure.\n"
   ]
  },
  {
   "cell_type": "code",
   "execution_count": 6,
   "metadata": {},
   "outputs": [
    {
     "name": "stdout",
     "output_type": "stream",
     "text": [
      "1\n",
      "2\n",
      "3\n",
      "4\n",
      "5\n",
      "6\n"
     ]
    }
   ],
   "source": [
    "my_list=[1,2,3,4,5,6]\n",
    "for i in my_list:\n",
    "    print(i)"
   ]
  },
  {
   "cell_type": "code",
   "execution_count": 7,
   "metadata": {},
   "outputs": [
    {
     "data": {
      "text/plain": [
       "list"
      ]
     },
     "execution_count": 7,
     "metadata": {},
     "output_type": "execute_result"
    }
   ],
   "source": [
    "type(my_list)"
   ]
  },
  {
   "cell_type": "code",
   "execution_count": 8,
   "metadata": {},
   "outputs": [
    {
     "name": "stdout",
     "output_type": "stream",
     "text": [
      "[1, 2, 3, 4, 5, 6]\n"
     ]
    }
   ],
   "source": [
    "print(my_list)"
   ]
  },
  {
   "cell_type": "code",
   "execution_count": 9,
   "metadata": {},
   "outputs": [
    {
     "name": "stdout",
     "output_type": "stream",
     "text": [
      "<class 'list_iterator'>\n"
     ]
    }
   ],
   "source": [
    "## Iterator\n",
    "iterator=iter(my_list)\n",
    "print(type(iterator))"
   ]
  },
  {
   "cell_type": "code",
   "execution_count": 10,
   "metadata": {},
   "outputs": [
    {
     "data": {
      "text/plain": [
       "<list_iterator at 0x27a325efb20>"
      ]
     },
     "execution_count": 10,
     "metadata": {},
     "output_type": "execute_result"
    }
   ],
   "source": [
    "iterator"
   ]
  },
  {
   "cell_type": "code",
   "execution_count": 17,
   "metadata": {},
   "outputs": [
    {
     "ename": "StopIteration",
     "evalue": "",
     "output_type": "error",
     "traceback": [
      "\u001b[1;31m---------------------------------------------------------------------------\u001b[0m",
      "\u001b[1;31mStopIteration\u001b[0m                             Traceback (most recent call last)",
      "Cell \u001b[1;32mIn[17], line 3\u001b[0m\n\u001b[0;32m      1\u001b[0m \u001b[38;5;66;03m## Iterate through all the element\u001b[39;00m\n\u001b[1;32m----> 3\u001b[0m \u001b[38;5;28;43mnext\u001b[39;49m\u001b[43m(\u001b[49m\u001b[43miterator\u001b[49m\u001b[43m)\u001b[49m\n",
      "\u001b[1;31mStopIteration\u001b[0m: "
     ]
    }
   ],
   "source": [
    "## Iterate through all the element\n",
    "\n",
    "next(iterator)"
   ]
  },
  {
   "cell_type": "code",
   "execution_count": 18,
   "metadata": {},
   "outputs": [],
   "source": [
    "iterator=iter(my_list)"
   ]
  },
  {
   "cell_type": "code",
   "execution_count": 25,
   "metadata": {},
   "outputs": [
    {
     "name": "stdout",
     "output_type": "stream",
     "text": [
      "There are no elements in the iterator\n"
     ]
    }
   ],
   "source": [
    "\n",
    "\n",
    "try:\n",
    "    print(next(iterator))\n",
    "except StopIteration:\n",
    "    print(\"There are no elements in the iterator\")"
   ]
  },
  {
   "cell_type": "markdown",
   "metadata": {},
   "source": [
    "In Python, an iterator is an object that allows you to traverse through all the elements of a collection (like lists, tuples, or strings) one element at a time. Iterators are implemented using two main methods: `__iter__()` and `__next__()`.\n",
    "\n",
    "### Key Concepts\n",
    "\n",
    "1. **Iterable**: An object that can return an iterator. Examples include lists, tuples, strings, and dictionaries. An object is considered iterable if it implements the `__iter__()` method.\n",
    "2. **Iterator**: An object that represents a stream of data. It returns data one element at a time. An object is considered an iterator if it implements both the `__iter__()` and `__next__()` methods.\n",
    "\n",
    "### Example \n",
    "\n",
    "Code snippet demonstrating a string iterator:\n",
    "\n"
   ]
  },
  {
   "cell_type": "code",
   "execution_count": null,
   "metadata": {},
   "outputs": [],
   "source": [
    "# String iterator\n",
    "my_string = \"Hello\"\n",
    "string_iterator = iter(my_string)\n",
    "\n",
    "print(next(string_iterator))  # Output: H\n",
    "print(next(string_iterator))  # Output: e"
   ]
  },
  {
   "cell_type": "markdown",
   "metadata": {},
   "source": [
    "\n",
    "\n",
    "### Explanation\n",
    "\n",
    "1. **Creating an Iterator**:\n",
    "   - [`my_string = \"Hello\"`](command:_github.copilot.openSymbolFromReferences?%5B%22my_string%20%3D%20%5C%22Hello%5C%22%22%2C%5B%7B%22uri%22%3A%7B%22%24mid%22%3A1%2C%22fsPath%22%3A%22x%3A%5C%5CGen_Ai%5C%5CPython-Bootcamp%5C%5C9-Advance%20Python%20Concepts%5C%5C9.1-Iterators.ipynb%22%2C%22_sep%22%3A1%2C%22external%22%3A%22vscode-notebook-cell%3A%2Fx%253A%2FGen_Ai%2FPython-Bootcamp%2F9-Advance%2520Python%2520Concepts%2F9.1-Iterators.ipynb%23X12sZmlsZQ%253D%253D%22%2C%22path%22%3A%22%2Fx%3A%2FGen_Ai%2FPython-Bootcamp%2F9-Advance%20Python%20Concepts%2F9.1-Iterators.ipynb%22%2C%22scheme%22%3A%22vscode-notebook-cell%22%2C%22fragment%22%3A%22X12sZmlsZQ%3D%3D%22%7D%2C%22pos%22%3A%7B%22line%22%3A1%2C%22character%22%3A0%7D%7D%5D%5D \"Go to definition\"): A string is created.\n",
    "   - [`string_iterator = iter(my_string)`](command:_github.copilot.openSymbolFromReferences?%5B%22string_iterator%20%3D%20iter(my_string)%22%2C%5B%7B%22uri%22%3A%7B%22%24mid%22%3A1%2C%22fsPath%22%3A%22x%3A%5C%5CGen_Ai%5C%5CPython-Bootcamp%5C%5C9-Advance%20Python%20Concepts%5C%5C9.1-Iterators.ipynb%22%2C%22_sep%22%3A1%2C%22external%22%3A%22vscode-notebook-cell%3A%2Fx%253A%2FGen_Ai%2FPython-Bootcamp%2F9-Advance%2520Python%2520Concepts%2F9.1-Iterators.ipynb%23X12sZmlsZQ%253D%253D%22%2C%22path%22%3A%22%2Fx%3A%2FGen_Ai%2FPython-Bootcamp%2F9-Advance%20Python%20Concepts%2F9.1-Iterators.ipynb%22%2C%22scheme%22%3A%22vscode-notebook-cell%22%2C%22fragment%22%3A%22X12sZmlsZQ%3D%3D%22%7D%2C%22pos%22%3A%7B%22line%22%3A2%2C%22character%22%3A0%7D%7D%5D%5D \"Go to definition\"): The [`iter()`](command:_github.copilot.openSymbolFromReferences?%5B%22iter()%22%2C%5B%7B%22uri%22%3A%7B%22%24mid%22%3A1%2C%22fsPath%22%3A%22x%3A%5C%5CGen_Ai%5C%5CPython-Bootcamp%5C%5C9-Advance%20Python%20Concepts%5C%5C9.1-Iterators.ipynb%22%2C%22_sep%22%3A1%2C%22external%22%3A%22vscode-notebook-cell%3A%2Fx%253A%2FGen_Ai%2FPython-Bootcamp%2F9-Advance%2520Python%2520Concepts%2F9.1-Iterators.ipynb%23X12sZmlsZQ%253D%253D%22%2C%22path%22%3A%22%2Fx%3A%2FGen_Ai%2FPython-Bootcamp%2F9-Advance%20Python%20Concepts%2F9.1-Iterators.ipynb%22%2C%22scheme%22%3A%22vscode-notebook-cell%22%2C%22fragment%22%3A%22X12sZmlsZQ%3D%3D%22%7D%2C%22pos%22%3A%7B%22line%22%3A2%2C%22character%22%3A18%7D%7D%5D%5D \"Go to definition\") function is called on the string, which returns an iterator object.\n",
    "\n",
    "2. **Using the Iterator**:\n",
    "   - [`print(next(string_iterator))`](command:_github.copilot.openSymbolFromReferences?%5B%22print(next(string_iterator))%22%2C%5B%7B%22uri%22%3A%7B%22%24mid%22%3A1%2C%22fsPath%22%3A%22x%3A%5C%5CGen_Ai%5C%5CPython-Bootcamp%5C%5C9-Advance%20Python%20Concepts%5C%5C9.1-Iterators.ipynb%22%2C%22_sep%22%3A1%2C%22external%22%3A%22vscode-notebook-cell%3A%2Fx%253A%2FGen_Ai%2FPython-Bootcamp%2F9-Advance%2520Python%2520Concepts%2F9.1-Iterators.ipynb%23X12sZmlsZQ%253D%253D%22%2C%22path%22%3A%22%2Fx%3A%2FGen_Ai%2FPython-Bootcamp%2F9-Advance%20Python%20Concepts%2F9.1-Iterators.ipynb%22%2C%22scheme%22%3A%22vscode-notebook-cell%22%2C%22fragment%22%3A%22X12sZmlsZQ%3D%3D%22%7D%2C%22pos%22%3A%7B%22line%22%3A4%2C%22character%22%3A0%7D%7D%5D%5D \"Go to definition\"): The [`next()`](command:_github.copilot.openSymbolFromReferences?%5B%22next()%22%2C%5B%7B%22uri%22%3A%7B%22%24mid%22%3A1%2C%22fsPath%22%3A%22x%3A%5C%5CGen_Ai%5C%5CPython-Bootcamp%5C%5C9-Advance%20Python%20Concepts%5C%5C9.1-Iterators.ipynb%22%2C%22_sep%22%3A1%2C%22external%22%3A%22vscode-notebook-cell%3A%2Fx%253A%2FGen_Ai%2FPython-Bootcamp%2F9-Advance%2520Python%2520Concepts%2F9.1-Iterators.ipynb%23X12sZmlsZQ%253D%253D%22%2C%22path%22%3A%22%2Fx%3A%2FGen_Ai%2FPython-Bootcamp%2F9-Advance%20Python%20Concepts%2F9.1-Iterators.ipynb%22%2C%22scheme%22%3A%22vscode-notebook-cell%22%2C%22fragment%22%3A%22X12sZmlsZQ%3D%3D%22%7D%2C%22pos%22%3A%7B%22line%22%3A4%2C%22character%22%3A6%7D%7D%5D%5D \"Go to definition\") function is called on the iterator, which returns the next element in the sequence. The first call returns `'H'`.\n",
    "   - [`print(next(string_iterator))`](command:_github.copilot.openSymbolFromReferences?%5B%22print(next(string_iterator))%22%2C%5B%7B%22uri%22%3A%7B%22%24mid%22%3A1%2C%22fsPath%22%3A%22x%3A%5C%5CGen_Ai%5C%5CPython-Bootcamp%5C%5C9-Advance%20Python%20Concepts%5C%5C9.1-Iterators.ipynb%22%2C%22_sep%22%3A1%2C%22external%22%3A%22vscode-notebook-cell%3A%2Fx%253A%2FGen_Ai%2FPython-Bootcamp%2F9-Advance%2520Python%2520Concepts%2F9.1-Iterators.ipynb%23X12sZmlsZQ%253D%253D%22%2C%22path%22%3A%22%2Fx%3A%2FGen_Ai%2FPython-Bootcamp%2F9-Advance%20Python%20Concepts%2F9.1-Iterators.ipynb%22%2C%22scheme%22%3A%22vscode-notebook-cell%22%2C%22fragment%22%3A%22X12sZmlsZQ%3D%3D%22%7D%2C%22pos%22%3A%7B%22line%22%3A4%2C%22character%22%3A0%7D%7D%5D%5D \"Go to definition\"): The second call to [`next()`](command:_github.copilot.openSymbolFromReferences?%5B%22next()%22%2C%5B%7B%22uri%22%3A%7B%22%24mid%22%3A1%2C%22fsPath%22%3A%22x%3A%5C%5CGen_Ai%5C%5CPython-Bootcamp%5C%5C9-Advance%20Python%20Concepts%5C%5C9.1-Iterators.ipynb%22%2C%22_sep%22%3A1%2C%22external%22%3A%22vscode-notebook-cell%3A%2Fx%253A%2FGen_Ai%2FPython-Bootcamp%2F9-Advance%2520Python%2520Concepts%2F9.1-Iterators.ipynb%23X12sZmlsZQ%253D%253D%22%2C%22path%22%3A%22%2Fx%3A%2FGen_Ai%2FPython-Bootcamp%2F9-Advance%20Python%20Concepts%2F9.1-Iterators.ipynb%22%2C%22scheme%22%3A%22vscode-notebook-cell%22%2C%22fragment%22%3A%22X12sZmlsZQ%3D%3D%22%7D%2C%22pos%22%3A%7B%22line%22%3A4%2C%22character%22%3A6%7D%7D%5D%5D \"Go to definition\") returns `'e'`.\n",
    "\n",
    "### Custom Iterator Example\n",
    "\n",
    "We can also create your own custom iterator by defining a class that implements the `__iter__()` and `__next__()` methods.\n",
    "\n"
   ]
  },
  {
   "cell_type": "code",
   "execution_count": null,
   "metadata": {},
   "outputs": [],
   "source": [
    "class MyIterator:\n",
    "    def __init__(self, data):\n",
    "        self.data = data\n",
    "        self.index = 0\n",
    "\n",
    "    def __iter__(self):\n",
    "        return self\n",
    "\n",
    "    def __next__(self):\n",
    "        if self.index < len(self.data):\n",
    "            result = self.data[self.index]\n",
    "            self.index += 1\n",
    "            return result\n",
    "        else:\n",
    "            raise StopIteration\n",
    "\n",
    "# Create an instance of MyIterator\n",
    "my_iter = MyIterator([1, 2, 3, 4])\n",
    "\n",
    "# Use the iterator\n",
    "for item in my_iter:\n",
    "    print(item)"
   ]
  },
  {
   "cell_type": "markdown",
   "metadata": {},
   "source": [
    "\n",
    "\n",
    "### Explanation\n",
    "\n",
    "1. **Initialization**:\n",
    "   - `__init__(self, data)`: Initializes the iterator with the data and sets the starting index to 0.\n",
    "\n",
    "2. **Iterator Protocol**:\n",
    "   - `__iter__(self)`: Returns the iterator object itself. This is called when the iterator is initialized.\n",
    "   - `__next__(self)`: Returns the next item from the data. If there are no more items, it raises a `StopIteration` exception.\n",
    "\n",
    "### Output\n",
    "\n",
    "When you run the custom iterator example, the output will be:\n",
    "\n"
   ]
  },
  {
   "cell_type": "code",
   "execution_count": null,
   "metadata": {
    "vscode": {
     "languageId": ""
    }
   },
   "outputs": [],
   "source": [
    "1\n",
    "2\n",
    "3\n",
    "4"
   ]
  },
  {
   "cell_type": "markdown",
   "metadata": {},
   "source": [
    "\n",
    "\n",
    "### Summary\n",
    "\n",
    "- **Iterable**: An object that can return an iterator (implements `__iter__()`).\n",
    "- **Iterator**: An object that can iterate over elements (implements `__iter__()` and `__next__()`).\n",
    "- **[`iter()`](command:_github.copilot.openSymbolFromReferences?%5B%22iter()%22%2C%5B%7B%22uri%22%3A%7B%22%24mid%22%3A1%2C%22fsPath%22%3A%22x%3A%5C%5CGen_Ai%5C%5CPython-Bootcamp%5C%5C9-Advance%20Python%20Concepts%5C%5C9.1-Iterators.ipynb%22%2C%22_sep%22%3A1%2C%22external%22%3A%22vscode-notebook-cell%3A%2Fx%253A%2FGen_Ai%2FPython-Bootcamp%2F9-Advance%2520Python%2520Concepts%2F9.1-Iterators.ipynb%23X12sZmlsZQ%253D%253D%22%2C%22path%22%3A%22%2Fx%3A%2FGen_Ai%2FPython-Bootcamp%2F9-Advance%20Python%20Concepts%2F9.1-Iterators.ipynb%22%2C%22scheme%22%3A%22vscode-notebook-cell%22%2C%22fragment%22%3A%22X12sZmlsZQ%3D%3D%22%7D%2C%22pos%22%3A%7B%22line%22%3A2%2C%22character%22%3A18%7D%7D%5D%5D \"Go to definition\")**: Function to get an iterator from an iterable.\n",
    "- **[`next()`](command:_github.copilot.openSymbolFromReferences?%5B%22next()%22%2C%5B%7B%22uri%22%3A%7B%22%24mid%22%3A1%2C%22fsPath%22%3A%22x%3A%5C%5CGen_Ai%5C%5CPython-Bootcamp%5C%5C9-Advance%20Python%20Concepts%5C%5C9.1-Iterators.ipynb%22%2C%22_sep%22%3A1%2C%22external%22%3A%22vscode-notebook-cell%3A%2Fx%253A%2FGen_Ai%2FPython-Bootcamp%2F9-Advance%2520Python%2520Concepts%2F9.1-Iterators.ipynb%23X12sZmlsZQ%253D%253D%22%2C%22path%22%3A%22%2Fx%3A%2FGen_Ai%2FPython-Bootcamp%2F9-Advance%20Python%20Concepts%2F9.1-Iterators.ipynb%22%2C%22scheme%22%3A%22vscode-notebook-cell%22%2C%22fragment%22%3A%22X12sZmlsZQ%3D%3D%22%7D%2C%22pos%22%3A%7B%22line%22%3A4%2C%22character%22%3A6%7D%7D%5D%5D \"Go to definition\")**: Function to get the next item from an iterator.\n",
    "\n",
    "Iterators are a powerful feature in Python that allow you to traverse through elements of a collection efficiently and are used extensively in loops and comprehensions."
   ]
  }
 ],
 "metadata": {
  "kernelspec": {
   "display_name": "Python 3",
   "language": "python",
   "name": "python3"
  },
  "language_info": {
   "codemirror_mode": {
    "name": "ipython",
    "version": 3
   },
   "file_extension": ".py",
   "mimetype": "text/x-python",
   "name": "python",
   "nbconvert_exporter": "python",
   "pygments_lexer": "ipython3",
   "version": "3.12.0"
  }
 },
 "nbformat": 4,
 "nbformat_minor": 2
}
